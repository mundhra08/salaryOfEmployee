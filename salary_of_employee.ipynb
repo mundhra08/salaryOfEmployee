{
  "nbformat": 4,
  "nbformat_minor": 0,
  "metadata": {
    "colab": {
      "name": "salary_of_employee.ipynb",
      "provenance": [],
      "collapsed_sections": [],
      "authorship_tag": "ABX9TyMBeUJqyaMsmKD+h7dkfFo5",
      "include_colab_link": true
    },
    "kernelspec": {
      "name": "python3",
      "display_name": "Python 3"
    },
    "language_info": {
      "name": "python"
    }
  },
  "cells": [
    {
      "cell_type": "markdown",
      "metadata": {
        "id": "view-in-github",
        "colab_type": "text"
      },
      "source": [
        "<a href=\"https://colab.research.google.com/github/mundhra08/salaryOfEmployee/blob/main/salary_of_employee.ipynb\" target=\"_parent\"><img src=\"https://colab.research.google.com/assets/colab-badge.svg\" alt=\"Open In Colab\"/></a>"
      ]
    },
    {
      "cell_type": "code",
      "metadata": {
        "id": "1TBM-kYwi14J",
        "colab": {
          "base_uri": "https://localhost:8080/"
        },
        "outputId": "f7eff208-1835-4110-c022-39884e73f204"
      },
      "source": [
        "n1=int(input(\"Enter No Days Present:\"))\n",
        "name=input(\"enter name of employee:\")\n",
        "designation=input(\"enter designation:\")\n",
        "n2=int(input(\"enter no of extra days present:\"))\n",
        "n3=n1+n2\n",
        "\n",
        "if designation==\"manager\": \n",
        "  salary=n3*2000\n",
        "  \n",
        "elif designation==\"teamleader\":\n",
        "  salary=n3*1800\n",
        "  \n",
        "elif designation==\"teammember\":\n",
        "  salary=n3*1500\n",
        "\n",
        "print(salary)\n",
        "\n",
        "\n",
        "\n",
        "\n"
      ],
      "execution_count": null,
      "outputs": [
        {
          "output_type": "stream",
          "name": "stdout",
          "text": [
            "Enter No Days Present:20\n",
            "enter name of employee:abc\n",
            "enter designation:teamleader\n",
            "enter no of extra days present:5\n",
            "45000\n"
          ]
        }
      ]
    }
  ]
}